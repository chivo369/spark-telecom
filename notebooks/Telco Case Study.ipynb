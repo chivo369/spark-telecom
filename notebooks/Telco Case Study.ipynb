{
 "cells": [
  {
   "cell_type": "markdown",
   "metadata": {},
   "source": [
    "# Telco Case Study\n",
    "2021/04/21"
   ]
  },
  {
   "cell_type": "markdown",
   "metadata": {},
   "source": [
    "### Question 1\n",
    "\n",
    "What might be the drivers for variation in network maintenance performance?"
   ]
  },
  {
   "cell_type": "markdown",
   "metadata": {},
   "source": [
    "*Your answer (non-coding):*"
   ]
  },
  {
   "cell_type": "markdown",
   "metadata": {},
   "source": []
  },
  {
   "cell_type": "markdown",
   "metadata": {},
   "source": [
    "### Question 2\n",
    "\n",
    "After working with Data Scientists and industry experts, we've agreed to uncover the drivers of engineering team performance using a model.  The first task is to assess the data available.\n",
    "\n",
    "What data quality issues would you be concerned about and check for?\n",
    "\n",
    "- What data quality issues would you be concerned about and check for?\n",
    "- Execute a test for completeness of data against the `Issue type` field in the alarms.json file"
   ]
  },
  {
   "cell_type": "code",
   "execution_count": 2,
   "metadata": {},
   "outputs": [
    {
     "data": {
      "text/plain": [
       "'...'"
      ]
     },
     "execution_count": 2,
     "metadata": {},
     "output_type": "execute_result"
    }
   ],
   "source": [
    "# Your answer\n",
    "\"...\""
   ]
  },
  {
   "cell_type": "markdown",
   "metadata": {},
   "source": [
    "### Question 3\n",
    "\n",
    "A simple initial definition of performance, is agreed to be the number of tickets a team resolves.\n",
    "\n",
    "To better understand the variances produce a table showing:\n",
    "\n",
    "- team\n",
    "- tickets_priority_1_count\n",
    "- tickets_priority_2_count\n",
    "- tickets_priority_3_count"
   ]
  },
  {
   "cell_type": "code",
   "execution_count": 27,
   "metadata": {},
   "outputs": [],
   "source": [
    "# Your Answer"
   ]
  },
  {
   "cell_type": "code",
   "execution_count": 12,
   "metadata": {},
   "outputs": [
    {
     "data": {
      "text/html": [
       "<div>\n",
       "<style scoped>\n",
       "    .dataframe tbody tr th:only-of-type {\n",
       "        vertical-align: middle;\n",
       "    }\n",
       "\n",
       "    .dataframe tbody tr th {\n",
       "        vertical-align: top;\n",
       "    }\n",
       "\n",
       "    .dataframe thead th {\n",
       "        text-align: right;\n",
       "    }\n",
       "</style>\n",
       "<table border=\"1\" class=\"dataframe\">\n",
       "  <thead>\n",
       "    <tr style=\"text-align: right;\">\n",
       "      <th></th>\n",
       "      <th>team</th>\n",
       "      <th>tickets_priority_1_count</th>\n",
       "      <th>tickets_priority_2_count</th>\n",
       "      <th>tickets_priority_3_count</th>\n",
       "    </tr>\n",
       "  </thead>\n",
       "  <tbody>\n",
       "    <tr>\n",
       "      <th>0</th>\n",
       "      <td>team0</td>\n",
       "      <td>61</td>\n",
       "      <td>73</td>\n",
       "      <td>72</td>\n",
       "    </tr>\n",
       "    <tr>\n",
       "      <th>1</th>\n",
       "      <td>team1</td>\n",
       "      <td>77</td>\n",
       "      <td>29</td>\n",
       "      <td>62</td>\n",
       "    </tr>\n",
       "    <tr>\n",
       "      <th>2</th>\n",
       "      <td>team2</td>\n",
       "      <td>26</td>\n",
       "      <td>58</td>\n",
       "      <td>63</td>\n",
       "    </tr>\n",
       "    <tr>\n",
       "      <th>3</th>\n",
       "      <td>team3</td>\n",
       "      <td>67</td>\n",
       "      <td>17</td>\n",
       "      <td>92</td>\n",
       "    </tr>\n",
       "    <tr>\n",
       "      <th>4</th>\n",
       "      <td>team4</td>\n",
       "      <td>77</td>\n",
       "      <td>1</td>\n",
       "      <td>75</td>\n",
       "    </tr>\n",
       "  </tbody>\n",
       "</table>\n",
       "</div>"
      ],
      "text/plain": [
       "    team  tickets_priority_1_count  tickets_priority_2_count  \\\n",
       "0  team0                        61                        73   \n",
       "1  team1                        77                        29   \n",
       "2  team2                        26                        58   \n",
       "3  team3                        67                        17   \n",
       "4  team4                        77                         1   \n",
       "\n",
       "   tickets_priority_3_count  \n",
       "0                        72  \n",
       "1                        62  \n",
       "2                        63  \n",
       "3                        92  \n",
       "4                        75  "
      ]
     },
     "execution_count": 12,
     "metadata": {},
     "output_type": "execute_result"
    }
   ],
   "source": [
    "# Example output schema (using generated mock data)\n",
    "import pandas as pd\n",
    "import numpy as np\n",
    "teams = ['team78', 'team30', 'team68', 'team56', 'team34', 'team48',\n",
    "       'team28', 'team33', 'team90']\n",
    "example_output_q3 = pd.DataFrame(\n",
    "    {'team': np.random.choice(teams, 24),\n",
    "     'tickets_priority_1_count': np.random.randint(0,100,24),\n",
    "     'tickets_priority_2_count': np.random.randint(0,100,24),\n",
    "     'tickets_priority_3_count': np.random.randint(0,100,24)}\n",
    ")\n",
    "example_output_q3.head()"
   ]
  },
  {
   "cell_type": "markdown",
   "metadata": {},
   "source": [
    "### Question 4\n",
    "\n",
    "As input to the early model effort create a dataframe with:\n",
    "\n",
    "- year\n",
    "- month\n",
    "- team\n",
    "- team size\n",
    "- tickets solved in the current month\n",
    "- tickets solved in the previous year"
   ]
  },
  {
   "cell_type": "code",
   "execution_count": 11,
   "metadata": {},
   "outputs": [],
   "source": [
    "# Your Answer\n"
   ]
  },
  {
   "cell_type": "code",
   "execution_count": 2,
   "metadata": {},
   "outputs": [
    {
     "data": {
      "text/html": [
       "<div>\n",
       "<style scoped>\n",
       "    .dataframe tbody tr th:only-of-type {\n",
       "        vertical-align: middle;\n",
       "    }\n",
       "\n",
       "    .dataframe tbody tr th {\n",
       "        vertical-align: top;\n",
       "    }\n",
       "\n",
       "    .dataframe thead th {\n",
       "        text-align: right;\n",
       "    }\n",
       "</style>\n",
       "<table border=\"1\" class=\"dataframe\">\n",
       "  <thead>\n",
       "    <tr style=\"text-align: right;\">\n",
       "      <th></th>\n",
       "      <th>year</th>\n",
       "      <th>month</th>\n",
       "      <th>team</th>\n",
       "      <th>team_size</th>\n",
       "      <th>tickets_solved_in_the_current_month</th>\n",
       "      <th>tickets_solved_in_the_previous_year</th>\n",
       "    </tr>\n",
       "  </thead>\n",
       "  <tbody>\n",
       "    <tr>\n",
       "      <th>0</th>\n",
       "      <td>2018</td>\n",
       "      <td>1</td>\n",
       "      <td>team28</td>\n",
       "      <td>1</td>\n",
       "      <td>64</td>\n",
       "      <td>32</td>\n",
       "    </tr>\n",
       "    <tr>\n",
       "      <th>1</th>\n",
       "      <td>2018</td>\n",
       "      <td>2</td>\n",
       "      <td>team90</td>\n",
       "      <td>2</td>\n",
       "      <td>84</td>\n",
       "      <td>43</td>\n",
       "    </tr>\n",
       "    <tr>\n",
       "      <th>2</th>\n",
       "      <td>2018</td>\n",
       "      <td>3</td>\n",
       "      <td>team78</td>\n",
       "      <td>3</td>\n",
       "      <td>88</td>\n",
       "      <td>29</td>\n",
       "    </tr>\n",
       "    <tr>\n",
       "      <th>3</th>\n",
       "      <td>2018</td>\n",
       "      <td>4</td>\n",
       "      <td>team78</td>\n",
       "      <td>4</td>\n",
       "      <td>81</td>\n",
       "      <td>15</td>\n",
       "    </tr>\n",
       "    <tr>\n",
       "      <th>4</th>\n",
       "      <td>2018</td>\n",
       "      <td>5</td>\n",
       "      <td>team34</td>\n",
       "      <td>2</td>\n",
       "      <td>23</td>\n",
       "      <td>31</td>\n",
       "    </tr>\n",
       "  </tbody>\n",
       "</table>\n",
       "</div>"
      ],
      "text/plain": [
       "   year  month    team  team_size  tickets_solved_in_the_current_month  \\\n",
       "0  2018      1  team28          1                                   64   \n",
       "1  2018      2  team90          2                                   84   \n",
       "2  2018      3  team78          3                                   88   \n",
       "3  2018      4  team78          4                                   81   \n",
       "4  2018      5  team34          2                                   23   \n",
       "\n",
       "   tickets_solved_in_the_previous_year  \n",
       "0                                   32  \n",
       "1                                   43  \n",
       "2                                   29  \n",
       "3                                   15  \n",
       "4                                   31  "
      ]
     },
     "execution_count": 2,
     "metadata": {},
     "output_type": "execute_result"
    }
   ],
   "source": [
    "# Example output schema (using generated mock data)\n",
    "import pandas as pd\n",
    "import numpy as np\n",
    "teams = ['team78', 'team30', 'team68', 'team56', 'team34', 'team48',\n",
    "       'team28', 'team33', 'team90']\n",
    "example_output_q4 = pd.DataFrame(\n",
    "    {'year': [2018]*12 + [2019]*12,\n",
    "     'month': list(range(1,13))*2,\n",
    "     'team': np.random.choice(teams, 24),\n",
    "     'team_size': np.random.randint(1,6,24),\n",
    "     'tickets_solved_in_the_current_month': np.random.randint(0,100,24),\n",
    "     'tickets_solved_in_the_previous_year': np.random.randint(0,100,24)}\n",
    ")\n",
    "example_output_q4.head()"
   ]
  },
  {
   "cell_type": "markdown",
   "metadata": {},
   "source": [
    "### Question 5\n",
    "\n",
    "A hypothesis is that the teams working on newer towers will take longer to resolve issues.\n",
    "\n",
    "A colleague began work on the below, but has left it unfinished...\n",
    "\n",
    "Create a function that accepts alarms records (or subparts) and returns the alarm network type.\n",
    "\n",
    "This is a chance to demonstrate your software engineering skills. Make sure this function is robust & ready for PR; consider testing & documentation."
   ]
  },
  {
   "cell_type": "code",
   "execution_count": 1,
   "metadata": {},
   "outputs": [],
   "source": [
    "# Your Answer\n",
    "def myFunc(json_string):\n",
    "    # todo fix me\n",
    "    if json_string['alarm_src']['mecontext'] == 'GSM':\n",
    "        return 'GSM'"
   ]
  },
  {
   "cell_type": "markdown",
   "metadata": {},
   "source": [
    "# Code Snippets"
   ]
  },
  {
   "cell_type": "code",
   "execution_count": null,
   "metadata": {},
   "outputs": [],
   "source": [
    "%%sh\n",
    "pip install pyspark\n",
    "pip install pandas"
   ]
  },
  {
   "cell_type": "code",
   "execution_count": 2,
   "metadata": {},
   "outputs": [],
   "source": [
    "from pyspark.sql import SparkSession\n",
    "import pyspark.sql.functions as f\n",
    "import pandas as pd\n",
    "spark = SparkSession.builder.getOrCreate()"
   ]
  },
  {
   "cell_type": "code",
   "execution_count": 9,
   "metadata": {},
   "outputs": [],
   "source": [
    "from pyspark.sql import functions as f"
   ]
  },
  {
   "cell_type": "code",
   "execution_count": 77,
   "metadata": {},
   "outputs": [],
   "source": [
    "alarms = spark.read.json('alarms.json')\n",
    "tickets = spark.read.csv('tickets.dat', inferSchema=True, header=True, sep='|')\n",
    "teams = spark.read.csv('team.csv', inferSchema=True, header=True, sep=',')"
   ]
  },
  {
   "cell_type": "code",
   "execution_count": 15,
   "metadata": {},
   "outputs": [
    {
     "data": {
      "text/plain": [
       "5013"
      ]
     },
     "execution_count": 15,
     "metadata": {},
     "output_type": "execute_result"
    }
   ],
   "source": [
    "alarms.filter(f.length(alarms.issue_type) == 0).count()"
   ]
  },
  {
   "cell_type": "code",
   "execution_count": 16,
   "metadata": {},
   "outputs": [
    {
     "name": "stdout",
     "output_type": "stream",
     "text": [
      "root\n",
      " |-- alarm_id: long (nullable = true)\n",
      " |-- alarm_src: struct (nullable = true)\n",
      " |    |-- MeContext: string (nullable = true)\n",
      " |    |-- Network: string (nullable = true)\n",
      " |    |-- SubNetwork: string (nullable = true)\n",
      " |-- event_end_ts: long (nullable = true)\n",
      " |-- event_start_ts: long (nullable = true)\n",
      " |-- issue_type: string (nullable = true)\n",
      "\n"
     ]
    }
   ],
   "source": [
    "alarms.printSchema()"
   ]
  },
  {
   "cell_type": "code",
   "execution_count": 17,
   "metadata": {},
   "outputs": [
    {
     "name": "stdout",
     "output_type": "stream",
     "text": [
      "+---------+--------+-------------------+-------------------+---------+----------+----------+--------+\n",
      "|ticket_id|   alarm|         started_ts|           ended_ts|solved_by|src_system|site_visit|priority|\n",
      "+---------+--------+-------------------+-------------------+---------+----------+----------+--------+\n",
      "|T_0000001|50025222|2018-09-14 03:29:10|14-09-2018 04.06.13|   team78|       OP2|         1|       3|\n",
      "|T_0000002|50021238|2018-10-29 03:39:49|29/10/2018 04:25:25|   team30|       OP1|         0|       2|\n",
      "|T_0000003|50034089|2018-03-31 07:25:48|31/03/2018 07:58:45|   team68|       OP1|         0|       3|\n",
      "|T_0000004|50021918|2018-08-08 19:57:56|08/08/2018 20:42:40|   team56|       OP1|         0|       2|\n",
      "|T_0000005|50046096|2018-10-10 17:47:00|10/10/2018 18:31:05|   team34|       OP1|         0|       3|\n",
      "+---------+--------+-------------------+-------------------+---------+----------+----------+--------+\n",
      "only showing top 5 rows\n",
      "\n"
     ]
    }
   ],
   "source": [
    "tickets.show(5)"
   ]
  },
  {
   "cell_type": "code",
   "execution_count": 18,
   "metadata": {},
   "outputs": [
    {
     "name": "stdout",
     "output_type": "stream",
     "text": [
      "+-------+---------+--------------------+\n",
      "|team_id|team_size|avg_experience_years|\n",
      "+-------+---------+--------------------+\n",
      "|team040|        4|                   5|\n",
      "|team033|        6|                   7|\n",
      "|team090|        5|                   6|\n",
      "|team056|        5|                   8|\n",
      "|team048|        6|                   6|\n",
      "+-------+---------+--------------------+\n",
      "only showing top 5 rows\n",
      "\n"
     ]
    }
   ],
   "source": [
    "teams.show(5)"
   ]
  },
  {
   "cell_type": "code",
   "execution_count": 23,
   "metadata": {},
   "outputs": [
    {
     "name": "stdout",
     "output_type": "stream",
     "text": [
      "+-------+\n",
      "|team_id|\n",
      "+-------+\n",
      "|team040|\n",
      "|team048|\n",
      "|team078|\n",
      "|team068|\n",
      "|team056|\n",
      "+-------+\n",
      "only showing top 5 rows\n",
      "\n"
     ]
    }
   ],
   "source": [
    "teams.select('team_id').distinct().show(5)"
   ]
  },
  {
   "cell_type": "code",
   "execution_count": 24,
   "metadata": {},
   "outputs": [
    {
     "name": "stdout",
     "output_type": "stream",
     "text": [
      "+---------+\n",
      "|solved_by|\n",
      "+---------+\n",
      "|   team68|\n",
      "|   team56|\n",
      "|   team48|\n",
      "|   team30|\n",
      "|   team78|\n",
      "+---------+\n",
      "only showing top 5 rows\n",
      "\n"
     ]
    }
   ],
   "source": [
    "tickets.select('solved_by').distinct().show(5)"
   ]
  },
  {
   "cell_type": "code",
   "execution_count": 25,
   "metadata": {},
   "outputs": [],
   "source": [
    "# Question 3"
   ]
  },
  {
   "cell_type": "code",
   "execution_count": 26,
   "metadata": {},
   "outputs": [
    {
     "name": "stdout",
     "output_type": "stream",
     "text": [
      "+---------+--------+-------------------+-------------------+---------+----------+----------+--------+\n",
      "|ticket_id|   alarm|         started_ts|           ended_ts|solved_by|src_system|site_visit|priority|\n",
      "+---------+--------+-------------------+-------------------+---------+----------+----------+--------+\n",
      "|T_0000001|50025222|2018-09-14 03:29:10|14-09-2018 04.06.13|   team78|       OP2|         1|       3|\n",
      "|T_0000002|50021238|2018-10-29 03:39:49|29/10/2018 04:25:25|   team30|       OP1|         0|       2|\n",
      "|T_0000003|50034089|2018-03-31 07:25:48|31/03/2018 07:58:45|   team68|       OP1|         0|       3|\n",
      "|T_0000004|50021918|2018-08-08 19:57:56|08/08/2018 20:42:40|   team56|       OP1|         0|       2|\n",
      "|T_0000005|50046096|2018-10-10 17:47:00|10/10/2018 18:31:05|   team34|       OP1|         0|       3|\n",
      "|T_0000006|50023937|2018-11-18 06:20:17|18/11/2018 07:08:09|   team48|       OP1|         0|       3|\n",
      "|T_0000007|50014731|2018-03-05 01:01:29|05/03/2018 01:43:58|   team30|       OP1|         0|       3|\n",
      "|T_0000008|50005680|2018-04-22 19:40:41|22/04/2018 20:27:56|   team34|       OP1|         1|       3|\n",
      "|T_0000009|50019568|2018-03-09 10:33:47|09-03-2018 11.05.04|   team34|       OP2|         0|       1|\n",
      "|T_0000010|50021490|2018-02-18 03:17:54|18/02/2018 04:10:12|   team68|       OP1|         1|       3|\n",
      "|T_0000011|50031715|2018-01-17 10:10:12|17-01-2018 10.59.56|   team28|       OP2|         0|       3|\n",
      "|T_0000012|50020307|2018-11-13 04:30:58|13/11/2018 05:20:12|   team28|       OP1|         0|       3|\n",
      "|T_0000013|50025022|2018-09-22 18:53:09|22-09-2018 19.25.44|   team56|       OP2|         0|       2|\n",
      "|T_0000014|50009585|2018-02-04 22:31:39|04/02/2018 23:06:18|   team30|       OP1|         1|       3|\n",
      "|T_0000015|50047314|2018-06-05 00:44:29|05-06-2018 01.20.33|   team28|       OP2|         1|       3|\n",
      "|T_0000016|50016133|2018-03-03 23:37:08|04-03-2018 00.16.33|   team56|       OP2|         0|       1|\n",
      "|T_0000017|50029254|2018-11-19 13:14:11|19/11/2018 14:13:59|   team33|       OP1|         0|       2|\n",
      "|T_0000018|50011198|2018-05-13 15:31:09|13/05/2018 16:16:03|   team90|       OP1|         0|       2|\n",
      "|T_0000019|50010378|2018-01-04 06:22:13|               null|   team28|       OP2|         0|       3|\n",
      "|T_0000020|50037567|2018-12-13 05:30:25|               null|   team56|       OP1|         1|       3|\n",
      "+---------+--------+-------------------+-------------------+---------+----------+----------+--------+\n",
      "only showing top 20 rows\n",
      "\n"
     ]
    }
   ],
   "source": [
    "tickets.show()"
   ]
  },
  {
   "cell_type": "code",
   "execution_count": 30,
   "metadata": {},
   "outputs": [],
   "source": [
    "q3 = tickets.groupBy('solved_by').pivot('priority').count()"
   ]
  },
  {
   "cell_type": "code",
   "execution_count": 31,
   "metadata": {},
   "outputs": [
    {
     "name": "stdout",
     "output_type": "stream",
     "text": [
      "+---------+---+----+----+\n",
      "|solved_by|  1|   2|   3|\n",
      "+---------+---+----+----+\n",
      "|   team68|317|1172|1865|\n",
      "|   team56|356|1139|1859|\n",
      "|   team48|405|1093|1898|\n",
      "|   team30|354|1133|1863|\n",
      "|   team78|400|1114|1893|\n",
      "+---------+---+----+----+\n",
      "only showing top 5 rows\n",
      "\n"
     ]
    }
   ],
   "source": [
    "q3.show(5)"
   ]
  },
  {
   "cell_type": "code",
   "execution_count": 33,
   "metadata": {},
   "outputs": [
    {
     "name": "stdout",
     "output_type": "stream",
     "text": [
      "+------+------------------------+------------------------+------------------------+\n",
      "|  team|tickets_priority_1_count|tickets_priority_2_count|tickets_priority_3_count|\n",
      "+------+------------------------+------------------------+------------------------+\n",
      "|team68|                     317|                    1172|                    1865|\n",
      "|team56|                     356|                    1139|                    1859|\n",
      "|team48|                     405|                    1093|                    1898|\n",
      "|team30|                     354|                    1133|                    1863|\n",
      "|team78|                     400|                    1114|                    1893|\n",
      "|team28|                     434|                    1071|                    1800|\n",
      "|team90|                     360|                    1111|                    1842|\n",
      "|team33|                     364|                    1152|                    1787|\n",
      "|team34|                     405|                    1064|                    1749|\n",
      "+------+------------------------+------------------------+------------------------+\n",
      "\n"
     ]
    }
   ],
   "source": [
    "q3 \\\n",
    "   .withColumnRenamed('solved_by', 'team') \\\n",
    "   .withColumnRenamed('1', 'tickets_priority_1_count') \\\n",
    "   .withColumnRenamed('2', 'tickets_priority_2_count') \\\n",
    "   .withColumnRenamed('3', 'tickets_priority_3_count') \\\n",
    "   .show()"
   ]
  },
  {
   "cell_type": "markdown",
   "metadata": {},
   "source": [
    "q4\n",
    "\n",
    "year\n",
    "\n",
    "month\n",
    "\n",
    "team\n",
    "\n",
    "team size\n",
    "\n",
    "tickets solved in the current month\n",
    "\n",
    "tickets solved in the previous year"
   ]
  },
  {
   "cell_type": "code",
   "execution_count": 35,
   "metadata": {},
   "outputs": [
    {
     "name": "stdout",
     "output_type": "stream",
     "text": [
      "+---------+--------+-------------------+-------------------+---------+----------+----------+--------+\n",
      "|ticket_id|   alarm|         started_ts|           ended_ts|solved_by|src_system|site_visit|priority|\n",
      "+---------+--------+-------------------+-------------------+---------+----------+----------+--------+\n",
      "|T_0000001|50025222|2018-09-14 03:29:10|14-09-2018 04.06.13|   team78|       OP2|         1|       3|\n",
      "|T_0000002|50021238|2018-10-29 03:39:49|29/10/2018 04:25:25|   team30|       OP1|         0|       2|\n",
      "|T_0000003|50034089|2018-03-31 07:25:48|31/03/2018 07:58:45|   team68|       OP1|         0|       3|\n",
      "|T_0000004|50021918|2018-08-08 19:57:56|08/08/2018 20:42:40|   team56|       OP1|         0|       2|\n",
      "|T_0000005|50046096|2018-10-10 17:47:00|10/10/2018 18:31:05|   team34|       OP1|         0|       3|\n",
      "+---------+--------+-------------------+-------------------+---------+----------+----------+--------+\n",
      "only showing top 5 rows\n",
      "\n"
     ]
    }
   ],
   "source": [
    "tickets.show(5)"
   ]
  },
  {
   "cell_type": "code",
   "execution_count": 69,
   "metadata": {},
   "outputs": [],
   "source": [
    "from pyspark.sql.types import IntegerType, TimestampType, StringType"
   ]
  },
  {
   "cell_type": "code",
   "execution_count": 52,
   "metadata": {},
   "outputs": [],
   "source": [
    "def extract_year(s):\n",
    "    s1 = s.split()[0]\n",
    "    s2 = s1.split('-')[0]\n",
    "    return int(s2)\n",
    "\n",
    "def extract_month(s):\n",
    "    s1 = s.split()[0]\n",
    "    s2 = s1.split('-')[1]\n",
    "    return int(s2)\n",
    "\n",
    "year_udf = f.udf(lambda x: extract_year(x), IntegerType())\n",
    "month_udf = f.udf(lambda x: extract_month(x), IntegerType())"
   ]
  },
  {
   "cell_type": "code",
   "execution_count": 83,
   "metadata": {},
   "outputs": [],
   "source": [
    "tickets = tickets.withColumn('started_ts', tickets.started_ts.cast(TimestampType()))"
   ]
  },
  {
   "cell_type": "code",
   "execution_count": 84,
   "metadata": {},
   "outputs": [],
   "source": [
    "tickets = tickets \\\n",
    "           .withColumn('year', f.year('started_ts')) \\\n",
    "           .withColumn('month', f.month('started_ts'))            "
   ]
  },
  {
   "cell_type": "code",
   "execution_count": 85,
   "metadata": {},
   "outputs": [
    {
     "name": "stdout",
     "output_type": "stream",
     "text": [
      "+---------+--------+-------------------+-------------------+---------+----------+----------+--------+----+-----+\n",
      "|ticket_id|   alarm|         started_ts|           ended_ts|solved_by|src_system|site_visit|priority|year|month|\n",
      "+---------+--------+-------------------+-------------------+---------+----------+----------+--------+----+-----+\n",
      "|T_0000001|50025222|2018-09-14 03:29:10|14-09-2018 04.06.13|   team78|       OP2|         1|       3|2018|    9|\n",
      "|T_0000002|50021238|2018-10-29 03:39:49|29/10/2018 04:25:25|   team30|       OP1|         0|       2|2018|   10|\n",
      "|T_0000003|50034089|2018-03-31 07:25:48|31/03/2018 07:58:45|   team68|       OP1|         0|       3|2018|    3|\n",
      "|T_0000004|50021918|2018-08-08 19:57:56|08/08/2018 20:42:40|   team56|       OP1|         0|       2|2018|    8|\n",
      "|T_0000005|50046096|2018-10-10 17:47:00|10/10/2018 18:31:05|   team34|       OP1|         0|       3|2018|   10|\n",
      "+---------+--------+-------------------+-------------------+---------+----------+----------+--------+----+-----+\n",
      "only showing top 5 rows\n",
      "\n"
     ]
    }
   ],
   "source": [
    "tickets.show(5)"
   ]
  },
  {
   "cell_type": "code",
   "execution_count": 86,
   "metadata": {},
   "outputs": [],
   "source": [
    "def clean_team_id(t):\n",
    "    return 'team'+t[-2:]\n",
    "\n",
    "clean_team_udf = f.udf(lambda x: clean_team_id(x), StringType())"
   ]
  },
  {
   "cell_type": "code",
   "execution_count": 87,
   "metadata": {},
   "outputs": [],
   "source": [
    "teams1 = teams.withColumn('team_id', clean_team_udf('team_id'))"
   ]
  },
  {
   "cell_type": "code",
   "execution_count": 88,
   "metadata": {},
   "outputs": [
    {
     "name": "stdout",
     "output_type": "stream",
     "text": [
      "+-------+---------+--------------------+\n",
      "|team_id|team_size|avg_experience_years|\n",
      "+-------+---------+--------------------+\n",
      "| team40|        4|                   5|\n",
      "| team33|        6|                   7|\n",
      "| team90|        5|                   6|\n",
      "| team56|        5|                   8|\n",
      "| team48|        6|                   6|\n",
      "| team28|        6|                   6|\n",
      "| team68|        5|                   5|\n",
      "| team78|        5|                   8|\n",
      "| team34|        3|                   6|\n",
      "| team30|        6|                   6|\n",
      "+-------+---------+--------------------+\n",
      "\n"
     ]
    }
   ],
   "source": [
    "teams1.show()"
   ]
  },
  {
   "cell_type": "code",
   "execution_count": 90,
   "metadata": {},
   "outputs": [],
   "source": [
    "df1 = tickets.join(teams1, tickets.solved_by == teams1.team_id, how='inner')"
   ]
  },
  {
   "cell_type": "code",
   "execution_count": 105,
   "metadata": {},
   "outputs": [],
   "source": [
    "df2 = df1.groupBy('team_id','team_size', 'month').count()"
   ]
  },
  {
   "cell_type": "code",
   "execution_count": 95,
   "metadata": {},
   "outputs": [],
   "source": [
    "year_df = df1.groupBy('team_id','team_size', 'year').count()"
   ]
  },
  {
   "cell_type": "code",
   "execution_count": 96,
   "metadata": {},
   "outputs": [
    {
     "name": "stdout",
     "output_type": "stream",
     "text": [
      "+-------+---------+----+-----+\n",
      "|team_id|team_size|year|count|\n",
      "+-------+---------+----+-----+\n",
      "| team33|        6|2018| 3303|\n",
      "| team78|        5|2019|    1|\n",
      "| team30|        6|2019|    1|\n",
      "| team30|        6|2018| 3349|\n",
      "| team90|        5|2018| 3313|\n",
      "| team34|        3|2018| 3218|\n",
      "| team48|        6|2018| 3396|\n",
      "| team56|        5|2018| 3354|\n",
      "| team28|        6|2019|    1|\n",
      "| team78|        5|2018| 3406|\n",
      "| team28|        6|2018| 3304|\n",
      "| team68|        5|2018| 3354|\n",
      "+-------+---------+----+-----+\n",
      "\n"
     ]
    }
   ],
   "source": [
    "year_df.show()"
   ]
  },
  {
   "cell_type": "code",
   "execution_count": 97,
   "metadata": {},
   "outputs": [],
   "source": [
    "from pyspark.sql import Window"
   ]
  },
  {
   "cell_type": "code",
   "execution_count": 98,
   "metadata": {},
   "outputs": [],
   "source": [
    "window_spec = Window.partitionBy('team_id', 'team_size').orderBy('year')"
   ]
  },
  {
   "cell_type": "code",
   "execution_count": 102,
   "metadata": {},
   "outputs": [],
   "source": [
    "year_df = year_df.withColumn('prev_year', f.lag('count').over(window_spec)).fillna(0)\n",
    "\n",
    "year_df = year_df.select('team_id', 'team_size', 'year', 'prev_year')"
   ]
  },
  {
   "cell_type": "code",
   "execution_count": 106,
   "metadata": {},
   "outputs": [
    {
     "name": "stdout",
     "output_type": "stream",
     "text": [
      "+-------+---------+----+---------+-----+-----+\n",
      "|team_id|team_size|year|prev_year|month|count|\n",
      "+-------+---------+----+---------+-----+-----+\n",
      "| team56|        5|2018|        0|    1|  299|\n",
      "| team56|        5|2018|        0|    4|  282|\n",
      "| team56|        5|2018|        0|   12|  311|\n",
      "| team56|        5|2018|        0|    9|  286|\n",
      "| team56|        5|2018|        0|    6|  279|\n",
      "| team56|        5|2018|        0|    2|  240|\n",
      "| team56|        5|2018|        0|    7|  264|\n",
      "| team56|        5|2018|        0|   10|  274|\n",
      "| team56|        5|2018|        0|    5|  295|\n",
      "| team56|        5|2018|        0|    8|  264|\n",
      "| team56|        5|2018|        0|    3|  305|\n",
      "| team56|        5|2018|        0|   11|  255|\n",
      "| team34|        3|2018|        0|    2|  220|\n",
      "| team34|        3|2018|        0|    1|  286|\n",
      "| team34|        3|2018|        0|    7|  259|\n",
      "| team34|        3|2018|        0|    9|  263|\n",
      "| team34|        3|2018|        0|   12|  295|\n",
      "| team34|        3|2018|        0|    8|  294|\n",
      "| team34|        3|2018|        0|   11|  251|\n",
      "| team34|        3|2018|        0|    6|  251|\n",
      "+-------+---------+----+---------+-----+-----+\n",
      "only showing top 20 rows\n",
      "\n"
     ]
    }
   ],
   "source": [
    "year_df.join(df2, on=['team_id', 'team_size']).show()"
   ]
  },
  {
   "cell_type": "code",
   "execution_count": 112,
   "metadata": {},
   "outputs": [],
   "source": [
    "#q5\n",
    "\n",
    "# Create a function that accepts alarms records (or subparts) and returns the\n",
    "# alarm network type.\n",
    "\n",
    "# • If MeContext contains LTE it is 4G network\n",
    "# • If MeContext contains UTM it is 3G network\n",
    "# • If MeContext contains GSM it is 2G network"
   ]
  },
  {
   "cell_type": "code",
   "execution_count": 122,
   "metadata": {},
   "outputs": [],
   "source": [
    "# Your Answer\n",
    "def myFunc(json_string):\n",
    "    \"\"\"\n",
    "    this function takes a json string as argument\n",
    "    and checks the instance of the network type,\n",
    "    and returns the network type\n",
    "    return type=> string\n",
    "    \"\"\"\n",
    "    mecontext = json_string['alarm_src']['mecontext']\n",
    "    if 'GSM' in mecontext:\n",
    "        return 'GSM'\n",
    "    elif 'LTE' in mecontext:\n",
    "        return 'LTE'\n",
    "    elif 'UTM' in mecontext:\n",
    "        return 'UTM'\n",
    "    else:\n",
    "        return 'Not Specified'"
   ]
  },
  {
   "cell_type": "code",
   "execution_count": 123,
   "metadata": {},
   "outputs": [],
   "source": [
    "sample = {'alarm_src':{'mecontext':'LON75UTM3265'}}"
   ]
  },
  {
   "cell_type": "code",
   "execution_count": 124,
   "metadata": {},
   "outputs": [],
   "source": [
    "import pytest"
   ]
  },
  {
   "cell_type": "code",
   "execution_count": 128,
   "metadata": {},
   "outputs": [],
   "source": [
    "def test_myFunc():\n",
    "    sample = {'alarm_src':{'mecontext':'LON75LTE3265'}}\n",
    "    assert 'LTE' == myFunc(sample)"
   ]
  },
  {
   "cell_type": "code",
   "execution_count": 126,
   "metadata": {},
   "outputs": [],
   "source": [
    "test_myFunc()"
   ]
  },
  {
   "cell_type": "code",
   "execution_count": 148,
   "metadata": {},
   "outputs": [],
   "source": [
    "#q6"
   ]
  },
  {
   "cell_type": "markdown",
   "metadata": {},
   "source": [
    "Create a new version of the dataframe in Q4 with \"count of tickets by\n",
    "network type\".\n",
    "This should be aggregated by year, month, team. Use the above function\n",
    "to get the network type."
   ]
  },
  {
   "cell_type": "code",
   "execution_count": 129,
   "metadata": {},
   "outputs": [
    {
     "name": "stdout",
     "output_type": "stream",
     "text": [
      "+--------+--------------------+-------------+--------------+----------------+\n",
      "|alarm_id|           alarm_src| event_end_ts|event_start_ts|      issue_type|\n",
      "+--------+--------------------+-------------+--------------+----------------+\n",
      "|50000001|{LON75UTM3265, UK...|1525685613000| 1525683343000|                |\n",
      "|50000002|{LON47UTM3159, UK...|1533618469000| 1533610843000|                |\n",
      "|50000003|{LON75GSM2884, UK...|1541645693000| 1541637429000|      3g_failure|\n",
      "|50000004|{LON187GSM2391, U...|1525604682000| 1525599471000|   power_failure|\n",
      "|50000005|{LON111LTE4170, U...|1541342376000| 1541335278000|   power_failure|\n",
      "|50000006|{LON75GSM2884, UK...|1533844097000| 1533841992000|                |\n",
      "|50000007|{LON33GSM2601, UK...|1530752968000| 1530743892000|    speed_issues|\n",
      "|50000008|{LON187LTE4202, U...|1532234526000| 1532227123000|   power_failure|\n",
      "|50000009|{LON10UTM3870, UK...|1516540419000| 1516535411000|high_temperature|\n",
      "|50000010|{LON37GSM2364, UK...|1540334084000| 1540331010000|      2g_failure|\n",
      "|50000011|{LON187GSM2391, U...|1518941321000| 1518933506000|      2g_failure|\n",
      "|50000012|{LON106LTE4901, U...|1538956219000| 1538952922000|        hw_issue|\n",
      "|50000013|{LON181UTM3309, U...|1535634717000| 1535631870000|        hw_issue|\n",
      "|50000014|{LON75UTM3265, UK...|1538241276000| 1538235040000|  up_link_failed|\n",
      "|50000015|{LON106GSM2550, U...|1536323561000| 1536314983000|      3g_failure|\n",
      "|50000016|{LON71LTE4248, UK...|1543762963000| 1543753807000|                |\n",
      "|50000017|{LON10UTM3556, UK...|1529428786000| 1529425635000|  up_link_failed|\n",
      "|50000018|{LON126UTM3553, U...|1540556629000| 1540550202000|  battery_broken|\n",
      "|50000019|{LON114UTM3701, U...|1532129030000| 1532124021000|        hw_issue|\n",
      "|50000020|{LON111UTM3087, U...|1541927093000| 1541918825000|      2g_failure|\n",
      "+--------+--------------------+-------------+--------------+----------------+\n",
      "only showing top 20 rows\n",
      "\n"
     ]
    }
   ],
   "source": [
    "alarms.show()"
   ]
  },
  {
   "cell_type": "code",
   "execution_count": 135,
   "metadata": {},
   "outputs": [],
   "source": [
    "alarms1 = alarms.selectExpr('alarm_id', 'alarm_src.MeContext')"
   ]
  },
  {
   "cell_type": "code",
   "execution_count": 136,
   "metadata": {},
   "outputs": [
    {
     "name": "stdout",
     "output_type": "stream",
     "text": [
      "+--------+-------------+\n",
      "|alarm_id|    MeContext|\n",
      "+--------+-------------+\n",
      "|50000001| LON75UTM3265|\n",
      "|50000002| LON47UTM3159|\n",
      "|50000003| LON75GSM2884|\n",
      "|50000004|LON187GSM2391|\n",
      "|50000005|LON111LTE4170|\n",
      "+--------+-------------+\n",
      "only showing top 5 rows\n",
      "\n"
     ]
    }
   ],
   "source": [
    "alarms1.show(5)"
   ]
  },
  {
   "cell_type": "code",
   "execution_count": 140,
   "metadata": {},
   "outputs": [],
   "source": [
    "# Your Answer\n",
    "def myFunc(mecontext):\n",
    "    \"\"\"\n",
    "    this function takes a json string as argument\n",
    "    and checks the instance of the network type,\n",
    "    and returns the network type\n",
    "    return type=> string\n",
    "    \"\"\"\n",
    "    if 'GSM' in mecontext:\n",
    "        return 'GSM'\n",
    "    elif 'LTE' in mecontext:\n",
    "        return 'LTE'\n",
    "    elif 'UTM' in mecontext:\n",
    "        return 'UTM'\n",
    "    else:\n",
    "        return 'Not Specified'\n",
    "\n",
    "ala_udf = f.udf(lambda x: myFunc(x))"
   ]
  },
  {
   "cell_type": "code",
   "execution_count": 142,
   "metadata": {},
   "outputs": [],
   "source": [
    "alarms1 = alarms1.withColumn('network_type', ala_udf('MeContext'))"
   ]
  },
  {
   "cell_type": "code",
   "execution_count": 143,
   "metadata": {},
   "outputs": [
    {
     "name": "stdout",
     "output_type": "stream",
     "text": [
      "+---------+--------+-------------------+-------------------+---------+----------+----------+--------+----+-----+-------+---------+--------------------+\n",
      "|ticket_id|   alarm|         started_ts|           ended_ts|solved_by|src_system|site_visit|priority|year|month|team_id|team_size|avg_experience_years|\n",
      "+---------+--------+-------------------+-------------------+---------+----------+----------+--------+----+-----+-------+---------+--------------------+\n",
      "|T_0000001|50025222|2018-09-14 03:29:10|14-09-2018 04.06.13|   team78|       OP2|         1|       3|2018|    9| team78|        5|                   8|\n",
      "|T_0000002|50021238|2018-10-29 03:39:49|29/10/2018 04:25:25|   team30|       OP1|         0|       2|2018|   10| team30|        6|                   6|\n",
      "|T_0000003|50034089|2018-03-31 07:25:48|31/03/2018 07:58:45|   team68|       OP1|         0|       3|2018|    3| team68|        5|                   5|\n",
      "|T_0000004|50021918|2018-08-08 19:57:56|08/08/2018 20:42:40|   team56|       OP1|         0|       2|2018|    8| team56|        5|                   8|\n",
      "|T_0000005|50046096|2018-10-10 17:47:00|10/10/2018 18:31:05|   team34|       OP1|         0|       3|2018|   10| team34|        3|                   6|\n",
      "+---------+--------+-------------------+-------------------+---------+----------+----------+--------+----+-----+-------+---------+--------------------+\n",
      "only showing top 5 rows\n",
      "\n"
     ]
    }
   ],
   "source": [
    "df1.show(5)"
   ]
  },
  {
   "cell_type": "code",
   "execution_count": 144,
   "metadata": {},
   "outputs": [],
   "source": [
    "ovdf = alarms1.join(df1, alarms1.alarm_id == df1.alarm)"
   ]
  },
  {
   "cell_type": "code",
   "execution_count": 145,
   "metadata": {},
   "outputs": [
    {
     "name": "stdout",
     "output_type": "stream",
     "text": [
      "+-------+----+-----+------------+-----+\n",
      "|team_id|year|month|network_type|count|\n",
      "+-------+----+-----+------------+-----+\n",
      "| team30|2018|    7|         UTM|   72|\n",
      "| team28|2018|    3|         GSM|   80|\n",
      "| team78|2018|   10|         GSM|   77|\n",
      "| team34|2018|    7|         GSM|   77|\n",
      "| team33|2018|    1|         UTM|   92|\n",
      "| team30|2018|    4|         LTE|  124|\n",
      "| team30|2018|   11|         UTM|   78|\n",
      "| team28|2018|    1|         UTM|   83|\n",
      "| team28|2018|    8|         GSM|   90|\n",
      "| team34|2018|   12|         GSM|   90|\n",
      "| team34|2018|    6|         UTM|   65|\n",
      "| team56|2018|   12|         GSM|   90|\n",
      "| team34|2018|    6|         LTE|   93|\n",
      "| team48|2018|    9|         GSM|   84|\n",
      "| team33|2018|    5|         GSM|   82|\n",
      "| team78|2018|    6|         UTM|   98|\n",
      "| team90|2018|   12|         UTM|  103|\n",
      "| team78|2018|    1|         UTM|   79|\n",
      "| team34|2018|    2|         UTM|   70|\n",
      "| team68|2018|    2|         UTM|   78|\n",
      "+-------+----+-----+------------+-----+\n",
      "only showing top 20 rows\n",
      "\n"
     ]
    }
   ],
   "source": [
    "ovdf.groupBy('team_id', 'year', 'month', 'network_type').count().show()"
   ]
  },
  {
   "cell_type": "code",
   "execution_count": null,
   "metadata": {},
   "outputs": [],
   "source": []
  }
 ],
 "metadata": {
  "kernelspec": {
   "display_name": "Python 3",
   "language": "python",
   "name": "python3"
  },
  "language_info": {
   "codemirror_mode": {
    "name": "ipython",
    "version": 3
   },
   "file_extension": ".py",
   "mimetype": "text/x-python",
   "name": "python",
   "nbconvert_exporter": "python",
   "pygments_lexer": "ipython3",
   "version": "3.8.8"
  }
 },
 "nbformat": 4,
 "nbformat_minor": 4
}
