{
 "cells": [
  {
   "cell_type": "code",
   "execution_count": 39,
   "id": "689d6f62",
   "metadata": {},
   "outputs": [],
   "source": [
    "from pyspark.sql import SparkSession\n",
    "from pyspark.sql import DataFrame\n",
    "from pyspark.sql import functions as f\n",
    "from pyspark.sql import Window\n",
    "from pyspark.sql import types as t"
   ]
  },
  {
   "cell_type": "code",
   "execution_count": 2,
   "id": "b76010da",
   "metadata": {},
   "outputs": [],
   "source": [
    "spark = SparkSession.builder.appName('Telecom CaseStudy').getOrCreate()"
   ]
  },
  {
   "cell_type": "code",
   "execution_count": 8,
   "id": "c48143e9",
   "metadata": {},
   "outputs": [],
   "source": [
    "# method to read json file and csv with custom header\n",
    "\n",
    "def read_json(spark: SparkSession, file_name: str) -> DataFrame :\n",
    "    \"\"\"\n",
    "    \"\"\"\n",
    "    return spark.read.json(file_name)\n",
    "\n",
    "def read_csv(spark: SparkSession, file_name: str, sep: str) -> DataFrame:\n",
    "    \"\"\"\n",
    "    \"\"\"\n",
    "    return spark.read.csv(file_name, header=True, inferSchema=True, sep=sep)"
   ]
  },
  {
   "cell_type": "code",
   "execution_count": 45,
   "id": "dd24d2e0",
   "metadata": {},
   "outputs": [],
   "source": [
    "alarms = read_json(spark, 'data/alarms.json')\n",
    "tickets = read_csv(spark, 'data/tickets.dat', '|')\n",
    "teams = read_csv(spark, 'data/team.csv', ',')"
   ]
  },
  {
   "cell_type": "code",
   "execution_count": 46,
   "id": "91e8c6ee",
   "metadata": {},
   "outputs": [
    {
     "name": "stdout",
     "output_type": "stream",
     "text": [
      "+-------+---------+--------------------+\n",
      "|team_id|team_size|avg_experience_years|\n",
      "+-------+---------+--------------------+\n",
      "| team40|        4|                   5|\n",
      "| team33|        6|                   7|\n",
      "| team90|        5|                   6|\n",
      "| team56|        5|                   8|\n",
      "| team48|        6|                   6|\n",
      "+-------+---------+--------------------+\n",
      "only showing top 5 rows\n",
      "\n"
     ]
    }
   ],
   "source": [
    "def clean_teamid(team_id: str) -> str:\n",
    "    \"\"\"\n",
    "    \"\"\"\n",
    "    return 'team' + team_id[-2:]\n",
    "\n",
    "udf_clean_teamid = f.udf(lambda x: clean_teamid(x), t.StringType())\n",
    "\n",
    "teams = teams.withColumn('team_id', udf_clean_teamid('team_id'))\n",
    "teams.show(5)"
   ]
  },
  {
   "cell_type": "code",
   "execution_count": 15,
   "id": "f453b6fb",
   "metadata": {},
   "outputs": [
    {
     "name": "stdout",
     "output_type": "stream",
     "text": [
      "+------+------------------------+------------------------+------------------------+\n",
      "|  team|tickets_priority_1_count|tickets_priority_2_count|tickets_priority_3_count|\n",
      "+------+------------------------+------------------------+------------------------+\n",
      "|team68|                     317|                    1172|                    1865|\n",
      "|team56|                     356|                    1139|                    1859|\n",
      "|team48|                     405|                    1093|                    1898|\n",
      "|team30|                     354|                    1133|                    1863|\n",
      "|team78|                     400|                    1114|                    1893|\n",
      "|team28|                     434|                    1071|                    1800|\n",
      "|team90|                     360|                    1111|                    1842|\n",
      "|team33|                     364|                    1152|                    1787|\n",
      "|team34|                     405|                    1064|                    1749|\n",
      "+------+------------------------+------------------------+------------------------+\n",
      "\n"
     ]
    }
   ],
   "source": [
    "tk_solved = tickets.groupBy('solved_by').pivot('priority').agg(f.count(f.lit(1)))\n",
    "tk_solved = tk_solved \\\n",
    "            .selectExpr('solved_by as team', '`1` as tickets_priority_1_count',\n",
    "                        '`2` as tickets_priority_2_count', '`3` as tickets_priority_3_count')\n",
    "tk_solved.show()"
   ]
  },
  {
   "cell_type": "code",
   "execution_count": 20,
   "id": "ea565a89",
   "metadata": {},
   "outputs": [
    {
     "name": "stdout",
     "output_type": "stream",
     "text": [
      "+---------+--------+-------------------+-------------------+---------+----------+----------+--------+----+-----+\n",
      "|ticket_id|   alarm|         started_ts|           ended_ts|solved_by|src_system|site_visit|priority|year|month|\n",
      "+---------+--------+-------------------+-------------------+---------+----------+----------+--------+----+-----+\n",
      "|T_0000001|50025222|2018-09-14 03:29:10|14-09-2018 04.06.13|   team78|       OP2|         1|       3|2018|    9|\n",
      "|T_0000002|50021238|2018-10-29 03:39:49|29/10/2018 04:25:25|   team30|       OP1|         0|       2|2018|   10|\n",
      "|T_0000003|50034089|2018-03-31 07:25:48|31/03/2018 07:58:45|   team68|       OP1|         0|       3|2018|    3|\n",
      "|T_0000004|50021918|2018-08-08 19:57:56|08/08/2018 20:42:40|   team56|       OP1|         0|       2|2018|    8|\n",
      "|T_0000005|50046096|2018-10-10 17:47:00|10/10/2018 18:31:05|   team34|       OP1|         0|       3|2018|   10|\n",
      "+---------+--------+-------------------+-------------------+---------+----------+----------+--------+----+-----+\n",
      "only showing top 5 rows\n",
      "\n"
     ]
    }
   ],
   "source": [
    "tickets_df = tickets \\\n",
    "                 .withColumn('year', f.year('started_ts')) \\\n",
    "                 .withColumn('month', f.month('started_ts'))\n",
    "tickets_df.show(5)"
   ]
  },
  {
   "cell_type": "code",
   "execution_count": 21,
   "id": "c93111af",
   "metadata": {},
   "outputs": [
    {
     "name": "stdout",
     "output_type": "stream",
     "text": [
      "+---------+----+---------------------+\n",
      "|solved_by|year|yearly_tickets_solved|\n",
      "+---------+----+---------------------+\n",
      "|   team48|2018|                 3396|\n",
      "|   team30|2018|                 3349|\n",
      "|   team33|2018|                 3303|\n",
      "|   team28|2019|                    1|\n",
      "|   team78|2019|                    1|\n",
      "|   team78|2018|                 3406|\n",
      "|   team56|2018|                 3354|\n",
      "|   team68|2018|                 3354|\n",
      "|   team34|2018|                 3218|\n",
      "|   team28|2018|                 3304|\n",
      "|   team30|2019|                    1|\n",
      "|   team90|2018|                 3313|\n",
      "+---------+----+---------------------+\n",
      "\n"
     ]
    }
   ],
   "source": [
    "year_df = tickets_df.groupBy('solved_by', 'year').agg(f.count(f.lit(1)).alias('yearly_tickets_solved'))\n",
    "year_df.show()"
   ]
  },
  {
   "cell_type": "code",
   "execution_count": 26,
   "id": "2d020eac",
   "metadata": {},
   "outputs": [],
   "source": [
    "window_spec = Window.partitionBy('solved_by').orderBy('year')\n",
    "\n",
    "year_df = year_df.withColumn('tickets_solved_previous_year', f.lag('yearly_tickets_solved').over(window_spec)).fillna(0)"
   ]
  },
  {
   "cell_type": "code",
   "execution_count": 34,
   "id": "cf71240f",
   "metadata": {},
   "outputs": [],
   "source": [
    "month_df = tickets_df.groupBy('solved_by', 'year', 'month').agg(f.count(f.lit(1)).alias('monthly_tickets_solved'))"
   ]
  },
  {
   "cell_type": "code",
   "execution_count": 35,
   "id": "d2f832ec",
   "metadata": {},
   "outputs": [
    {
     "name": "stdout",
     "output_type": "stream",
     "text": [
      "+---------+----+-----+----------------------+\n",
      "|solved_by|year|month|monthly_tickets_solved|\n",
      "+---------+----+-----+----------------------+\n",
      "|   team68|2018|    6|                   296|\n",
      "|   team28|2018|    3|                   291|\n",
      "|   team28|2018|   10|                   277|\n",
      "|   team33|2018|    7|                   306|\n",
      "|   team30|2018|    8|                   310|\n",
      "+---------+----+-----+----------------------+\n",
      "only showing top 5 rows\n",
      "\n"
     ]
    }
   ],
   "source": [
    "month_df.show(5)"
   ]
  },
  {
   "cell_type": "code",
   "execution_count": 51,
   "id": "261c0f6b",
   "metadata": {},
   "outputs": [],
   "source": [
    "df = year_df \\\n",
    "     .join(month_df, on=['solved_by', 'year'])\n",
    "\n",
    "final_df = df.join(teams, teams.team_id == df.solved_by)\n",
    "final_df = final_df.select('team_id', 'team_size', 'year', 'month', 'monthly_tickets_solved', 'tickets_solved_previous_year')"
   ]
  },
  {
   "cell_type": "code",
   "execution_count": null,
   "id": "33c659cf",
   "metadata": {},
   "outputs": [],
   "source": []
  },
  {
   "cell_type": "code",
   "execution_count": null,
   "id": "0b8ea2f4",
   "metadata": {},
   "outputs": [],
   "source": []
  },
  {
   "cell_type": "code",
   "execution_count": null,
   "id": "bfd97e8c",
   "metadata": {},
   "outputs": [],
   "source": []
  }
 ],
 "metadata": {
  "kernelspec": {
   "display_name": "Python 3",
   "language": "python",
   "name": "python3"
  },
  "language_info": {
   "codemirror_mode": {
    "name": "ipython",
    "version": 3
   },
   "file_extension": ".py",
   "mimetype": "text/x-python",
   "name": "python",
   "nbconvert_exporter": "python",
   "pygments_lexer": "ipython3",
   "version": "3.8.8"
  }
 },
 "nbformat": 4,
 "nbformat_minor": 5
}
